{
 "cells": [
  {
   "cell_type": "code",
   "execution_count": null,
   "id": "737804b3",
   "metadata": {},
   "outputs": [],
   "source": [
    "print(\"Name: Van Tuan Khanh\")\n",
    "print(\"Date of birth: 18/03/1997\")\n",
    "print(\"Address: Tan Binh, TPHCM\")\n",
    "print(\"Future Orientation: Developer\")"
   ]
  }
 ],
 "metadata": {
  "kernelspec": {
   "display_name": "Python 3 (ipykernel)",
   "language": "python",
   "name": "python3"
  },
  "language_info": {
   "codemirror_mode": {
    "name": "ipython",
    "version": 3
   },
   "file_extension": ".py",
   "mimetype": "text/x-python",
   "name": "python",
   "nbconvert_exporter": "python",
   "pygments_lexer": "ipython3",
   "version": "3.9.13"
  }
 },
 "nbformat": 4,
 "nbformat_minor": 5
}
